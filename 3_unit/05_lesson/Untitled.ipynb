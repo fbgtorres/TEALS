{
 "cells": [
  {
   "cell_type": "code",
   "execution_count": null,
   "metadata": {},
   "outputs": [],
   "source": [
    "import random\n",
    "months_1 = (1 , 2 , 3 , 4 , 5 , 6 , 7 , 8 , 9 , 10 , 11 , 12)\n",
    "days_1 = (1 , 2, 3, 4, 5, 6, 7, 8, 9, 10, 11, 12, 13, 14, 15, 16, 17, 18, 19, 20, 21, 22, 23, 24, 25, 26, 27, 28 , 29, 30 , 31)\n",
    "def days_and_months():\n",
    "    \n",
    "def travel():\n",
    "\n",
    "def rest():\n",
    "    \n",
    "def hunt():\n",
    "    \n",
    "\n",
    "\n",
    "\n",
    "\n",
    "def start_game():\n",
    "    name = input(\"What is your name traveler?\")\n",
    "    print (\"Welcome to the oregon trail\")\n",
    "    print (\"It is March 1st, and you are in New york!\")\n",
    "    print (\"You have to make it to Oregon by December 31st!\")\n",
    "    print (\"you can use 'help' to find out how to play\")\n",
    "    print (\"You have 500 pounds of food to start, and 5 health.\")\n",
    "    print (\"Your journey begins, whats your first move?\")\n",
    "    print (\"Your options are to travel, hunt, rest, or ask for help\")\n",
    "    first_choice = input(\"\")\n",
    "    if first_choice = (\"travel\"):\n",
    "        travel()\n",
    "    elif first_choice = (\"rest\"):\n",
    "        print(\"Alittle early to rest dont you think? You havent done anything\")\n",
    "        \n",
    "start_game()\n",
    "    \n",
    "\n",
    "\n"
   ]
  },
  {
   "cell_type": "code",
   "execution_count": null,
   "metadata": {},
   "outputs": [],
   "source": []
  }
 ],
 "metadata": {
  "kernelspec": {
   "display_name": "Python 3",
   "language": "python",
   "name": "python3"
  },
  "language_info": {
   "codemirror_mode": {
    "name": "ipython",
    "version": 3
   },
   "file_extension": ".py",
   "mimetype": "text/x-python",
   "name": "python",
   "nbconvert_exporter": "python",
   "pygments_lexer": "ipython3",
   "version": "3.7.3"
  }
 },
 "nbformat": 4,
 "nbformat_minor": 2
}
